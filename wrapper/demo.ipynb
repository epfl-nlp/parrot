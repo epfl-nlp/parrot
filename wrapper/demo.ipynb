{
 "cells": [
  {
   "cell_type": "code",
   "execution_count": 5,
   "metadata": {},
   "outputs": [],
   "source": [
    "import gpt_wrapper\n",
    "from gpt_wrapper.chat import Chat\n",
    "\n",
    "gpt_wrapper.api_base = \"http://localhost:8080\"\n",
    "gpt_wrapper.api_key = \"d41441a2-3c40-4a48-9c06-d011a2d7a232\""
   ]
  },
  {
   "cell_type": "code",
   "execution_count": 6,
   "metadata": {},
   "outputs": [
    {
     "name": "stdout",
     "output_type": "stream",
     "text": [
      "{'limit': 10000, 'usage': 84}\n"
     ]
    }
   ],
   "source": [
    "print(Chat.budget())"
   ]
  },
  {
   "cell_type": "code",
   "execution_count": 7,
   "metadata": {},
   "outputs": [
    {
     "name": "stdout",
     "output_type": "stream",
     "text": [
      "test1 (3)\n"
     ]
    }
   ],
   "source": [
    "chat = Chat.create(\"test1\")\n",
    "print(chat)"
   ]
  },
  {
   "cell_type": "code",
   "execution_count": 8,
   "metadata": {},
   "outputs": [
    {
     "name": "stdout",
     "output_type": "stream",
     "text": [
      "The Los Angeles Dodgers won the World Series in 2020.\n"
     ]
    }
   ],
   "source": [
    "message = chat.ask(\"Who won the world series in 2020?\", instruction=\"You are a helpful assistant.\")\n",
    "print(message)"
   ]
  },
  {
   "cell_type": "code",
   "execution_count": 9,
   "metadata": {},
   "outputs": [
    {
     "data": {
      "text/plain": [
       "{'chat_id': 3,\n",
       " 'name': 'test1',\n",
       " 'created_at': '2023-09-27 14:59:01',\n",
       " 'model_type': 'chat_completion',\n",
       " 'instruction_prefix': 'My request: ',\n",
       " 'user_prefix': 'My request: ',\n",
       " 'assistant_prefix': 'Your response: '}"
      ]
     },
     "execution_count": 9,
     "metadata": {},
     "output_type": "execute_result"
    }
   ],
   "source": [
    "chat.to_dict()"
   ]
  },
  {
   "cell_type": "code",
   "execution_count": 10,
   "metadata": {},
   "outputs": [
    {
     "name": "stdout",
     "output_type": "stream",
     "text": [
      "The Los Angeles Dodgers won the World Series in 2020.\n"
     ]
    }
   ],
   "source": [
    "message = chat.ask(\"Who won the world series in 2020?\", instruction=\"You are a helpful assistant.\")\n",
    "print(message)"
   ]
  },
  {
   "cell_type": "code",
   "execution_count": 11,
   "metadata": {},
   "outputs": [
    {
     "data": {
      "text/plain": [
       "{'message_id': 10,\n",
       " 'chat_id': 3,\n",
       " 'content': 'The Los Angeles Dodgers won the World Series in 2020.',\n",
       " 'role': 'assistant',\n",
       " 'created_at': '2023-09-27 14:59:12',\n",
       " 'usage': {'completion_tokens': 13, 'prompt_tokens': 68, 'total_tokens': 81},\n",
       " 'model_args': {'best_of': 1,\n",
       "  'frequency_penalty': 0,\n",
       "  'max_tokens': None,\n",
       "  'presence_penalty': 0,\n",
       "  'temperature': 0.7,\n",
       "  'top_p': 1.0}}"
      ]
     },
     "execution_count": 11,
     "metadata": {},
     "output_type": "execute_result"
    }
   ],
   "source": [
    "message.to_dict()"
   ]
  },
  {
   "cell_type": "code",
   "execution_count": 12,
   "metadata": {},
   "outputs": [
    {
     "name": "stdout",
     "output_type": "stream",
     "text": [
      "['Test User (1)', 'Test chat (2)', 'test1 (3)']\n"
     ]
    }
   ],
   "source": [
    "chats = Chat.list()\n",
    "print([str(chat) for chat in chats])"
   ]
  },
  {
   "cell_type": "code",
   "execution_count": 13,
   "metadata": {},
   "outputs": [
    {
     "name": "stdout",
     "output_type": "stream",
     "text": [
      "The World Series in 2020 was played at the Globe Life Field in Arlington, Texas.\n"
     ]
    }
   ],
   "source": [
    "message = chat.ask(\"Where was it played?\")\n",
    "print(message)"
   ]
  },
  {
   "cell_type": "code",
   "execution_count": 14,
   "metadata": {},
   "outputs": [
    {
     "name": "stdout",
     "output_type": "stream",
     "text": [
      "In the 2020 World Series, the Los Angeles Dodgers represented the National League, and the Tampa Bay Rays represented the American League.\n"
     ]
    }
   ],
   "source": [
    "message = chat.ask(\"Who participated there?\")\n",
    "print(message)"
   ]
  },
  {
   "cell_type": "code",
   "execution_count": 15,
   "metadata": {},
   "outputs": [
    {
     "name": "stdout",
     "output_type": "stream",
     "text": [
      "['You are a helpful assistant.', 'Who won the world series in 2020?', 'The Los Angeles Dodgers won the World Series in 2020.', 'You are a helpful assistant.', 'Who won the world series in 2020?', 'The Los Angeles Dodgers won the World Series in 2020.', 'Where was it played?', 'The World Series in 2020 was played at the Globe Life Field in Arlington, Texas.', 'Who participated there?', 'In the 2020 World Series, the Los Angeles Dodgers represented the National League, and the Tampa Bay Rays represented the American League.']\n"
     ]
    }
   ],
   "source": [
    "messages = chat.messages()\n",
    "print([str(message) for message in messages])"
   ]
  }
 ],
 "metadata": {
  "kernelspec": {
   "display_name": "mnlp",
   "language": "python",
   "name": "python3"
  },
  "language_info": {
   "codemirror_mode": {
    "name": "ipython",
    "version": 3
   },
   "file_extension": ".py",
   "mimetype": "text/x-python",
   "name": "python",
   "nbconvert_exporter": "python",
   "pygments_lexer": "ipython3",
   "version": "3.8.12"
  },
  "orig_nbformat": 4,
  "vscode": {
   "interpreter": {
    "hash": "5d8d51ee7e10bfad93586662e95dc2aa303f8919a9e28d78ef19197d4ab190df"
   }
  }
 },
 "nbformat": 4,
 "nbformat_minor": 2
}
