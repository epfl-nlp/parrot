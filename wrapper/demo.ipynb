{
 "cells": [
  {
   "cell_type": "code",
   "execution_count": 1,
   "metadata": {},
   "outputs": [],
   "source": [
    "import gpt_wrapper\n",
    "from gpt_wrapper.chat import Chat\n",
    "\n",
    "gpt_wrapper.api_base = \"http://mnlp-backend-lb-1062233132.eu-central-1.elb.amazonaws.com\"\n",
    "gpt_wrapper.api_key = \"14586f08-d8b1-44e6-a9b6-3747e5e550f8\""
   ]
  },
  {
   "cell_type": "code",
   "execution_count": 2,
   "metadata": {},
   "outputs": [
    {
     "name": "stdout",
     "output_type": "stream",
     "text": [
      "{'limit': 10000000, 'usage': 29}\n"
     ]
    }
   ],
   "source": [
    "print(Chat.budget())"
   ]
  },
  {
   "cell_type": "code",
   "execution_count": 3,
   "metadata": {},
   "outputs": [
    {
     "name": "stdout",
     "output_type": "stream",
     "text": [
      "test1 (2)\n"
     ]
    }
   ],
   "source": [
    "chat = Chat.create(\"test1\")\n",
    "print(chat)"
   ]
  },
  {
   "cell_type": "code",
   "execution_count": 5,
   "metadata": {},
   "outputs": [
    {
     "name": "stdout",
     "output_type": "stream",
     "text": [
      "In a thrilling culmination to a season unlike any other, the Los Angeles Dodgers emerged victorious in the 2020 World Series, capturing their first championship in 32 years. The Dodgers faced off against the Tampa Bay Rays in a six-game showdown that showcased both teams' resilience and talent. \n",
      "\n",
      "Game 6, played on October 27, 2020, saw Los Angeles clinch the title with a decisive 3-1 victory. The Dodgers' ace, Clayton Kershaw, delivered a stellar performance throughout the series, solidifying his legacy with a long-awaited title. The victory not only ended a championship drought for the storied franchise but also served as a beacon of hope during a challenging year marked by the pandemic. With this triumph, the Dodgers reaffirmed their place among baseball's elite, and the celebration was a testament to their perseverance and skill on the field.\n"
     ]
    }
   ],
   "source": [
    "message = chat.ask(\"Who won the world series in 2020?\", instruction=\"Answer in the style of a sports journalist\")\n",
    "print(message)"
   ]
  },
  {
   "cell_type": "code",
   "execution_count": 9,
   "metadata": {},
   "outputs": [
    {
     "data": {
      "text/plain": [
       "{'chat_id': 3,\n",
       " 'name': 'test1',\n",
       " 'created_at': '2023-09-27 14:59:01',\n",
       " 'model_type': 'chat_completion',\n",
       " 'instruction_prefix': 'My request: ',\n",
       " 'user_prefix': 'My request: ',\n",
       " 'assistant_prefix': 'Your response: '}"
      ]
     },
     "execution_count": 9,
     "metadata": {},
     "output_type": "execute_result"
    }
   ],
   "source": [
    "chat.to_dict()"
   ]
  },
  {
   "cell_type": "code",
   "execution_count": 10,
   "metadata": {},
   "outputs": [
    {
     "name": "stdout",
     "output_type": "stream",
     "text": [
      "The Los Angeles Dodgers won the World Series in 2020.\n"
     ]
    }
   ],
   "source": [
    "message = chat.ask(\"Who won the world series in 2020?\", instruction=\"You are a helpful assistant.\")\n",
    "print(message)"
   ]
  },
  {
   "cell_type": "code",
   "execution_count": 11,
   "metadata": {},
   "outputs": [
    {
     "data": {
      "text/plain": [
       "{'message_id': 10,\n",
       " 'chat_id': 3,\n",
       " 'content': 'The Los Angeles Dodgers won the World Series in 2020.',\n",
       " 'role': 'assistant',\n",
       " 'created_at': '2023-09-27 14:59:12',\n",
       " 'usage': {'completion_tokens': 13, 'prompt_tokens': 68, 'total_tokens': 81},\n",
       " 'model_args': {'best_of': 1,\n",
       "  'frequency_penalty': 0,\n",
       "  'max_tokens': None,\n",
       "  'presence_penalty': 0,\n",
       "  'temperature': 0.7,\n",
       "  'top_p': 1.0}}"
      ]
     },
     "execution_count": 11,
     "metadata": {},
     "output_type": "execute_result"
    }
   ],
   "source": [
    "message.to_dict()"
   ]
  },
  {
   "cell_type": "code",
   "execution_count": 12,
   "metadata": {},
   "outputs": [
    {
     "name": "stdout",
     "output_type": "stream",
     "text": [
      "['Test User (1)', 'Test chat (2)', 'test1 (3)']\n"
     ]
    }
   ],
   "source": [
    "chats = Chat.list()\n",
    "print([str(chat) for chat in chats])"
   ]
  },
  {
   "cell_type": "code",
   "execution_count": 13,
   "metadata": {},
   "outputs": [
    {
     "name": "stdout",
     "output_type": "stream",
     "text": [
      "The World Series in 2020 was played at the Globe Life Field in Arlington, Texas.\n"
     ]
    }
   ],
   "source": [
    "message = chat.ask(\"Where was it played?\")\n",
    "print(message)"
   ]
  },
  {
   "cell_type": "code",
   "execution_count": 14,
   "metadata": {},
   "outputs": [
    {
     "name": "stdout",
     "output_type": "stream",
     "text": [
      "In the 2020 World Series, the Los Angeles Dodgers represented the National League, and the Tampa Bay Rays represented the American League.\n"
     ]
    }
   ],
   "source": [
    "message = chat.ask(\"Who participated there?\")\n",
    "print(message)"
   ]
  },
  {
   "cell_type": "code",
   "execution_count": 15,
   "metadata": {},
   "outputs": [
    {
     "name": "stdout",
     "output_type": "stream",
     "text": [
      "['You are a helpful assistant.', 'Who won the world series in 2020?', 'The Los Angeles Dodgers won the World Series in 2020.', 'You are a helpful assistant.', 'Who won the world series in 2020?', 'The Los Angeles Dodgers won the World Series in 2020.', 'Where was it played?', 'The World Series in 2020 was played at the Globe Life Field in Arlington, Texas.', 'Who participated there?', 'In the 2020 World Series, the Los Angeles Dodgers represented the National League, and the Tampa Bay Rays represented the American League.']\n"
     ]
    }
   ],
   "source": [
    "messages = chat.messages()\n",
    "print([str(message) for message in messages])"
   ]
  }
 ],
 "metadata": {
  "kernelspec": {
   "display_name": "mnlp-ex7",
   "language": "python",
   "name": "python3"
  },
  "language_info": {
   "codemirror_mode": {
    "name": "ipython",
    "version": 3
   },
   "file_extension": ".py",
   "mimetype": "text/x-python",
   "name": "python",
   "nbconvert_exporter": "python",
   "pygments_lexer": "ipython3",
   "version": "3.10.14"
  },
  "orig_nbformat": 4
 },
 "nbformat": 4,
 "nbformat_minor": 2
}
