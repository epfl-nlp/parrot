{
 "cells": [
  {
   "cell_type": "code",
   "execution_count": null,
   "metadata": {},
   "outputs": [],
   "source": [
    "import requests\n",
    "\n",
    "PARROT_TOKEN = \"\"\n",
    "API_URL = \"\"\n",
    "url = f\"{API_URL}/accounts\"\n",
    "\n",
    "response = requests.get(url, headers={\"Authorization\": f\"Bearer {PARROT_TOKEN}\"})"
   ]
  },
  {
   "cell_type": "code",
   "execution_count": null,
   "metadata": {},
   "outputs": [],
   "source": [
    "accounts = response.json()"
   ]
  },
  {
   "cell_type": "code",
   "execution_count": null,
   "metadata": {},
   "outputs": [],
   "source": [
    "len(accounts)"
   ]
  },
  {
   "cell_type": "code",
   "execution_count": null,
   "metadata": {},
   "outputs": [],
   "source": [
    "project_accounts = [account for account in accounts if account[\"name\"].startswith(\"Account\")]"
   ]
  },
  {
   "cell_type": "code",
   "execution_count": null,
   "metadata": {},
   "outputs": [],
   "source": [
    "from tqdm import tqdm\n",
    "import requests\n",
    "\n",
    "PARROT_TOKEN = \"\"\n",
    "API_URL = \"\"\n",
    "\n",
    "response = requests.get(f\"{API_URL}/accounts\", headers={\"Authorization\": f\"Bearer {PARROT_TOKEN}\"})\n",
    "accounts = response.json()\n",
    "project_accounts = [account for account in accounts if account[\"name\"].startswith(\"Account\")]\n",
    "\n",
    "num_accounts = len(project_accounts)\n",
    "num_chats = 0\n",
    "num_messages = 0\n",
    "\n",
    "for account in tqdm(project_accounts):\n",
    "    response = requests.get(f\"{API_URL}/chats\", headers={\"Authorization\": f\"Bearer {account['api_key']}\"})\n",
    "    chats = response.json()\n",
    "    if response.status_code == 200:\n",
    "        num_chats += len(chats)\n",
    "    else:\n",
    "        raise Exception(f\"Error getting chats for account {account['name']}: {response.json()}\")\n",
    "\n",
    "    for chat in tqdm(chats):\n",
    "        response = requests.get(f\"{API_URL}/chats/{chat['id']}/num_messages\", headers={\"Authorization\": f\"Bearer {account['api_key']}\"})\n",
    "        if response.status_code == 200:\n",
    "            num_messages += response.json()[\"num_messages\"]\n",
    "        else:\n",
    "            raise Exception(f\"Error getting num_messages for chat {chat['id']}: {response.json()}\")\n",
    "\n",
    "print(f\"Number of accounts: {num_accounts}\")\n",
    "print(f\"Number of chats: {num_chats}\")\n",
    "print(f\"Number of messages: {num_messages}\")"
   ]
  },
  {
   "cell_type": "code",
   "execution_count": null,
   "metadata": {},
   "outputs": [],
   "source": [
    "account_ids = \"\"\"\n",
    "100  108  116  123  130  142  15   159  166  173  180  192  20   207  214  221  229  236  245  252  26   267  274  281  289  297  304  311  39  47  55  63  71  79  87  95\n",
    "101  109  117  124  131  143  150  16   167  174  181  193  200  208  215  222  23   237  246  253  260  268  275  282  290  298  305  32   40  48  56  64  72  80  88  96\n",
    "102  110  118  125  132  144  151  160  168  175  182  194  201  209  216  223  230  238  247  254  261  269  276  283  291  299  306  33   41  49  57  65  73  81  89  97\n",
    "103  111  119  126  133  145  154  161  169  176  183  195  202  21   217  224  231  239  248  255  262  27   277  284  292  30   307  34   42  50  58  66  74  82  90  98\n",
    "104  112  12   127  134  146  155  162  17   177  184  196  203  210  218  225  232  240  249  256  263  270  278  285  293  300  308  35   43  51  59  67  75  83  91  99\n",
    "105  113  120  128  135  147  156  163  170  178  185  197  204  211  219  226  233  242  25   257  264  271  279  286  294  301  309  36   44  52  60  68  76  84  92\n",
    "106  114  121  129  14   148  157  164  171  179  186  198  205  212  22   227  234  243  250  258  265  272  28   287  295  302  31   37   45  53  61  69  77  85  93\n",
    "107  115  122  13   141  149  158  165  172  18   19   199  206  213  220  228  235  244  251  259  266  273  280  288  296  303  310  38   46  54  62  70  78  86  94\n",
    "\"\"\"\n",
    "account_ids = [int(x) for x in account_ids.split()]"
   ]
  },
  {
   "cell_type": "code",
   "execution_count": null,
   "metadata": {},
   "outputs": [],
   "source": [
    "set([account[\"id\"] for account in project_accounts]) - set(account_ids)"
   ]
  },
  {
   "cell_type": "code",
   "execution_count": null,
   "metadata": {},
   "outputs": [],
   "source": [
    "len([account for account in accounts if account[\"name\"].startswith(\"Account\")])"
   ]
  },
  {
   "cell_type": "code",
   "execution_count": null,
   "metadata": {},
   "outputs": [],
   "source": [
    "[account for account in project_accounts if account[\"id\"] == 24]"
   ]
  },
  {
   "cell_type": "code",
   "execution_count": null,
   "metadata": {},
   "outputs": [],
   "source": [
    "interacting_accounts = [account for account in accounts if account[\"usage\"] > 0]"
   ]
  },
  {
   "cell_type": "code",
   "execution_count": null,
   "metadata": {},
   "outputs": [],
   "source": [
    "len(interacting_accounts)"
   ]
  },
  {
   "cell_type": "code",
   "execution_count": null,
   "metadata": {},
   "outputs": [],
   "source": [
    "usages = [account[\"usage\"] for account in interacting_accounts]"
   ]
  },
  {
   "cell_type": "code",
   "execution_count": null,
   "metadata": {},
   "outputs": [],
   "source": [
    "sum(usages), sum(usages) / len(usages), max(usages), min(usages)"
   ]
  },
  {
   "cell_type": "code",
   "execution_count": null,
   "metadata": {},
   "outputs": [],
   "source": [
    "len([u for u in usages if u > 15e6])"
   ]
  },
  {
   "cell_type": "code",
   "execution_count": null,
   "metadata": {},
   "outputs": [],
   "source": [
    "sum(usages)"
   ]
  },
  {
   "cell_type": "code",
   "execution_count": null,
   "metadata": {},
   "outputs": [],
   "source": [
    "response = requests.get(f\"{API_URL}/accounts/{interacting_accounts[0]['id']}/num_chats\", headers={\"Authorization\": f\"Bearer {PARROT_TOKEN}\"})"
   ]
  },
  {
   "cell_type": "code",
   "execution_count": null,
   "metadata": {},
   "outputs": [],
   "source": [
    "response = requests.get(f\"{API_URL}/chats\", headers={\"Authorization\": f\"Bearer {interacting_accounts[0]['api_key']}\"})"
   ]
  },
  {
   "cell_type": "code",
   "execution_count": null,
   "metadata": {},
   "outputs": [],
   "source": [
    "response = requests.get(f\"{API_URL}/chats/40792/num_messages\", headers={\"Authorization\": f\"Bearer {interacting_accounts[0]['api_key']}\"})"
   ]
  },
  {
   "cell_type": "code",
   "execution_count": null,
   "metadata": {},
   "outputs": [],
   "source": [
    "response.json()"
   ]
  },
  {
   "cell_type": "code",
   "execution_count": null,
   "metadata": {},
   "outputs": [],
   "source": [
    "response.json()"
   ]
  },
  {
   "cell_type": "code",
   "execution_count": null,
   "metadata": {},
   "outputs": [],
   "source": [
    "from tqdm import tqdm\n",
    "\n",
    "num_chats = []\n",
    "\n",
    "for account in tqdm(interacting_accounts):\n",
    "    response = requests.get(f\"{API_URL}/accounts/{account['id']}/num_chats\", headers={\"Authorization\": f\"Bearer {PARROT_TOKEN}\"})\n",
    "    num_chats.append(response.json()[\"num_chats\"])"
   ]
  },
  {
   "cell_type": "code",
   "execution_count": null,
   "metadata": {},
   "outputs": [],
   "source": [
    "sum(num_chats), sum(num_chats) / len(num_chats), max(num_chats), min(num_chats)"
   ]
  },
  {
   "cell_type": "code",
   "execution_count": null,
   "metadata": {},
   "outputs": [],
   "source": [
    "from tqdm import tqdm\n",
    "\n",
    "num_chats = []\n",
    "interactions = []\n",
    "\n",
    "for account in tqdm(interacting_accounts):\n",
    "    response = requests.get(f\"{API_URL}/chats\", headers={\"Authorization\": f\"Bearer {account['api_key']}\"})\n",
    "    chats = response.json()\n",
    "    account_interactions = []\n",
    "\n",
    "    for chat in chats:\n",
    "        response = requests.get(f\"{API_URL}/chats/{chat['id']}/num_messages\", headers={\"Authorization\": f\"Bearer {account['api_key']}\"})\n",
    "        account_interactions.append(response.json()[\"num_messages\"])\n",
    "\n",
    "    interactions.append(account_interactions)\n",
    "    num_chats.append(len(chats))"
   ]
  },
  {
   "cell_type": "code",
   "execution_count": null,
   "metadata": {},
   "outputs": [],
   "source": [
    "sum([sum(inters) for inters in interactions])"
   ]
  },
  {
   "cell_type": "code",
   "execution_count": null,
   "metadata": {},
   "outputs": [],
   "source": [
    "interactions_per_account = [sum(inters) for inters in interactions]"
   ]
  },
  {
   "cell_type": "code",
   "execution_count": null,
   "metadata": {},
   "outputs": [],
   "source": [
    "sum(interactions_per_account), sum(interactions_per_account) / len(interactions_per_account), max(interactions_per_account), min(interactions_per_account)"
   ]
  },
  {
   "cell_type": "code",
   "execution_count": null,
   "metadata": {},
   "outputs": [],
   "source": [
    "sum(num_chats), sum(num_chats) / len(num_chats), max(num_chats), min(num_chats)"
   ]
  },
  {
   "cell_type": "code",
   "execution_count": null,
   "metadata": {},
   "outputs": [],
   "source": [
    "interacting_accounts[71]"
   ]
  }
 ],
 "metadata": {
  "kernelspec": {
   "display_name": "mnlp",
   "language": "python",
   "name": "python3"
  },
  "language_info": {
   "codemirror_mode": {
    "name": "ipython",
    "version": 3
   },
   "file_extension": ".py",
   "mimetype": "text/x-python",
   "name": "python",
   "nbconvert_exporter": "python",
   "pygments_lexer": "ipython3",
   "version": "3.8.12"
  },
  "orig_nbformat": 4
 },
 "nbformat": 4,
 "nbformat_minor": 2
}
